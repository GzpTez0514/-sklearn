{
  "nbformat": 4,
  "nbformat_minor": 0,
  "metadata": {
    "colab": {
      "name": "机器学习: 支持向量机01.ipynb",
      "provenance": [],
      "authorship_tag": "ABX9TyOFZay0Skzo9C9CDCeaO8jp",
      "include_colab_link": true
    },
    "kernelspec": {
      "name": "python3",
      "display_name": "Python 3"
    },
    "language_info": {
      "name": "python"
    }
  },
  "cells": [
    {
      "cell_type": "markdown",
      "metadata": {
        "id": "view-in-github",
        "colab_type": "text"
      },
      "source": [
        "<a href=\"https://colab.research.google.com/github/GzpTez0514/-sklearn/blob/main/%E6%9C%BA%E5%99%A8%E5%AD%A6%E4%B9%A0_%E6%94%AF%E6%8C%81%E5%90%91%E9%87%8F%E6%9C%BA01.ipynb\" target=\"_parent\"><img src=\"https://colab.research.google.com/assets/colab-badge.svg\" alt=\"Open In Colab\"/></a>"
      ]
    },
    {
      "cell_type": "code",
      "execution_count": 6,
      "metadata": {
        "colab": {
          "base_uri": "https://localhost:8080/",
          "height": 252
        },
        "id": "YWePRiPIAtuJ",
        "outputId": "60a6c0c2-6329-4609-9d5b-3f0d2d33aa83"
      },
      "outputs": [
        {
          "output_type": "display_data",
          "data": {
            "text/plain": [
              "<Figure size 432x288 with 1 Axes>"
            ],
            "image/png": "[encoded data removed]"
          },
          "metadata": {}
        }
      ],
      "source": [
        "from sklearn.datasets import make_blobs\n",
        "from sklearn.svm import SVC\n",
        "import matplotlib.pyplot as plt\n",
        "import numpy as np\n",
        "\n",
        "# 实例化数据集\n",
        "X, y = make_blobs(n_samples=50, centers=2, random_state=0, cluster_std=0.6)\n",
        "plt.scatter(X[:, 0],X[:, 1], c=y, s=50, cmap='rainbow')\n",
        "plt.xticks([])\n",
        "plt.yticks([])\n",
        "plt.show()"
      ]
    },
    {
      "cell_type": "code",
      "source": [
        "# 画决策边界，contour:绘制等高线函数\n",
        "# 首先要有散点图\n",
        "plt.scatter(X[:, 0], X[:, 1], c=y, s=50, cmap='rainbow')\n",
        "ax = plt.gca()  # 获取当前的子图，如果不存在，则创建新的子图"
      ],
      "metadata": {
        "colab": {
          "base_uri": "https://localhost:8080/",
          "height": 265
        },
        "id": "Vwwul7JXF8yb",
        "outputId": "2b1ce7a9-ae55-4921-edc0-1ffb01c726fa"
      },
      "execution_count": 8,
      "outputs": [
        {
          "output_type": "display_data",
          "data": {
            "text/plain": [
              "<Figure size 432x288 with 1 Axes>"
            ],
            "image/png": "[encoded data removed]"
          },
          "metadata": {
            "needs_background": "light"
          }
        }
      ]
    },
    {
      "cell_type": "code",
      "source": [
        "# 画决策边界：制作网格，用meshgrid\n",
        "# 获取平上面两条坐标轴的最大值和最小值\n",
        "xlim = ax.get_xlim()\n",
        "print(xlim)\n",
        "ylim = ax.get_ylim()\n",
        "print(ylim)"
      ],
      "metadata": {
        "colab": {
          "base_uri": "https://localhost:8080/"
        },
        "id": "HErS7MdPH009",
        "outputId": "7ee19824-3c5a-42e6-9f61-6dfb854699b8"
      },
      "execution_count": 9,
      "outputs": [
        {
          "output_type": "stream",
          "name": "stdout",
          "text": [
            "(-0.7425578984849813, 3.3721920271976598)\n",
            "(-0.41872382476349596, 5.754870487889891)\n"
          ]
        }
      ]
    },
    {
      "cell_type": "code",
      "source": [
        "# 在最大值和最小值之间形成30个规律的数据\n",
        "axisx = np.linspace(xlim[0], xlim[1], 30)\n",
        "axisy = np.linspace(ylim[0], ylim[1], 30)\n",
        "print(axisx.shape)\n",
        "print(axisy.shape)"
      ],
      "metadata": {
        "colab": {
          "base_uri": "https://localhost:8080/"
        },
        "id": "SbTsKMzRJevc",
        "outputId": "5e979976-1d35-4f1e-ee27-560d4376f49e"
      },
      "execution_count": 10,
      "outputs": [
        {
          "output_type": "stream",
          "name": "stdout",
          "text": [
            "(30,)\n",
            "(30,)\n"
          ]
        }
      ]
    },
    {
      "cell_type": "code",
      "source": [
        "# 使用meshgrid函数将两个一维向量转换为特征矩阵，核心是将两个特征向量进行广播\n",
        "axisx, axisy = np.meshgrid(axisx, axisy)\n",
        "print(axisx.shape)\n",
        "print(axisy.shape)"
      ],
      "metadata": {
        "colab": {
          "base_uri": "https://localhost:8080/"
        },
        "id": "OWGQQZreJoUL",
        "outputId": "7bd25d67-be3a-451f-a8f5-c0e1693ad927"
      },
      "execution_count": 11,
      "outputs": [
        {
          "output_type": "stream",
          "name": "stdout",
          "text": [
            "(30, 30)\n",
            "(30, 30)\n"
          ]
        }
      ]
    },
    {
      "cell_type": "code",
      "source": [
        "# ravel()是降维函数，vstack能够将多个结构一致的多维数组上下合并\n",
        "# xy就是已经形成的网格，它是遍布在整个画布上的密集的点\n",
        "xy = np.vstack([axisx.ravel(), axisy.ravel()]).T\n",
        "print(xy)"
      ],
      "metadata": {
        "colab": {
          "base_uri": "https://localhost:8080/"
        },
        "id": "Bux5TCkQPT6-",
        "outputId": "724fa5ea-756d-4f6b-aca7-c3728eb6fb3f"
      },
      "execution_count": 12,
      "outputs": [
        {
          "output_type": "stream",
          "name": "stdout",
          "text": [
            "[[-0.7425579  -0.41872382]\n",
            " [-0.60066997 -0.41872382]\n",
            " [-0.45878204 -0.41872382]\n",
            " ...\n",
            " [ 3.08841617  5.75487049]\n",
            " [ 3.2303041   5.75487049]\n",
            " [ 3.37219203  5.75487049]]\n"
          ]
        }
      ]
    },
    {
      "cell_type": "code",
      "source": [
        "plt.scatter(xy[:, 0], xy[:, 1], s=1, cmap='rainbow')"
      ],
      "metadata": {
        "colab": {
          "base_uri": "https://localhost:8080/",
          "height": 284
        },
        "id": "T-3tzMFUUdqH",
        "outputId": "fd4682aa-2033-415e-cbb7-caa094f76ad1"
      },
      "execution_count": 13,
      "outputs": [
        {
          "output_type": "execute_result",
          "data": {
            "text/plain": [
              "<matplotlib.collections.PathCollection at 0x7f247b3dd390>"
            ]
          },
          "metadata": {},
          "execution_count": 13
        },
        {
          "output_type": "display_data",
          "data": {
            "text/plain": [
              "<Figure size 432x288 with 1 Axes>"
            ],
            "image/png": "[encoded data removed]"
          },
          "metadata": {
            "needs_background": "light"
          }
        }
      ]
    },
    {
      "cell_type": "code",
      "source": [
        "# 举例（meshgrid、ravel和vstack）\n",
        "a = np.array([1, 2, 3])\n",
        "b = np.array([7, 8])\n",
        "v1, v2 = np.meshgrid(a, b)\n",
        "print(v1)\n",
        "print(v2)\n",
        "print(v1.ravel())\n",
        "print(v2.ravel())\n",
        "v = np.vstack([v1.ravel(), v2.ravel()]).T"
      ],
      "metadata": {
        "colab": {
          "base_uri": "https://localhost:8080/"
        },
        "id": "i7SYb0jcVE2d",
        "outputId": "10f55bf8-30a2-45d0-d286-9741c0155c28"
      },
      "execution_count": 14,
      "outputs": [
        {
          "output_type": "stream",
          "name": "stdout",
          "text": [
            "[[1 2 3]\n",
            " [1 2 3]]\n",
            "[[7 7 7]\n",
            " [8 8 8]]\n",
            "[1 2 3 1 2 3]\n",
            "[7 7 7 8 8 8]\n"
          ]
        }
      ]
    }
  ]
}